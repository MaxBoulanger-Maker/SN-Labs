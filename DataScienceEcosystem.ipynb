{
 "cells": [
  {
   "cell_type": "markdown",
   "id": "0063ff77-d2c2-4955-abab-3fafb5df2f5f",
   "metadata": {},
   "source": [
    "## Data Science Tools and Ecosystem"
   ]
  },
  {
   "cell_type": "markdown",
   "id": "9e789ea9-05c9-4644-8461-cb25e1d7d947",
   "metadata": {},
   "source": [
    "### In this notebook, Data Science Tools and Ecosystem are summarized"
   ]
  },
  {
   "cell_type": "markdown",
   "id": "6b309b5e-0162-4b0e-9c45-fc317bd8e6a4",
   "metadata": {},
   "source": [
    "#### Some of the popular languages that Data Scientists use are:"
   ]
  },
  {
   "cell_type": "markdown",
   "id": "df2b3960-5548-4e08-9d60-a8f6625e700f",
   "metadata": {},
   "source": [
    "1 **Python**\n",
    "2 **R**\n",
    "3 **C**"
   ]
  },
  {
   "cell_type": "markdown",
   "id": "4eb55368-493f-410d-9b07-e54c3cec2f09",
   "metadata": {},
   "source": [
    "#### Some of the commonly used libraries used by Data Scientists include:"
   ]
  },
  {
   "cell_type": "markdown",
   "id": "3e1fdded-bccc-49af-a346-94d064479df1",
   "metadata": {},
   "source": [
    "1. **Panda** 2. **ggplot** 3. **Numpy**"
   ]
  },
  {
   "cell_type": "markdown",
   "id": "ad89a173-8e54-4648-838c-f5d2c2a40d3c",
   "metadata": {},
   "source": [
    "| Data Science Tools |\n",
    "|--------------------|\n",
    "| Jupyter Notebook  |\n",
    "| RStudio           |\n",
    "| Anaconda          |\n"
   ]
  },
  {
   "cell_type": "markdown",
   "id": "27c07a28-c9b8-42b5-8e99-746cb51e4944",
   "metadata": {},
   "source": [
    "#### Below are a few examples of evaluating arithmetic expressions in Python:\n"
   ]
  },
  {
   "cell_type": "code",
   "execution_count": 65,
   "id": "02e43b6f-24f5-449c-b8d8-8733d23ef730",
   "metadata": {},
   "outputs": [
    {
     "data": {
      "text/plain": [
       "17"
      ]
     },
     "execution_count": 65,
     "metadata": {},
     "output_type": "execute_result"
    }
   ],
   "source": [
    "# This is a simple arithmetic expression to multiply then add integers.\n",
    "(3 * 4) + 5 #@ Expected output: 17\n"
   ]
  },
  {
   "cell_type": "code",
   "execution_count": 67,
   "id": "ea409437-1c9d-44ee-8295-fe1f843d91b5",
   "metadata": {},
   "outputs": [
    {
     "data": {
      "text/plain": [
       "3.3333333333333335"
      ]
     },
     "execution_count": 67,
     "metadata": {},
     "output_type": "execute_result"
    }
   ],
   "source": [
    "#This will convert 200 minutes to hours by diving by 60\n",
    "(200/60)"
   ]
  },
  {
   "cell_type": "markdown",
   "id": "28e9763e-cdea-4b3a-93a0-aa52422d45a8",
   "metadata": {},
   "source": [
    "**Ob#jectives** \n",
    "- List popular languages for Data Science  \n",
    "- Identify commonly used Data Science libraries \n",
    "- Describe common open-source development tools for Data Science  "
   ]
  },
  {
   "cell_type": "markdown",
   "id": "eec14d83-9f1a-481b-b59e-f0d0474f4656",
   "metadata": {},
   "source": [
    "## Author\n",
    "Maxime Boulanger "
   ]
  },
  {
   "cell_type": "code",
   "execution_count": null,
   "id": "bc6809bf-efd7-4d65-bf22-0afa9d3068e9",
   "metadata": {},
   "outputs": [],
   "source": []
  }
 ],
 "metadata": {
  "kernelspec": {
   "display_name": "Python [conda env:base] *",
   "language": "python",
   "name": "conda-base-py"
  },
  "language_info": {
   "codemirror_mode": {
    "name": "ipython",
    "version": 3
   },
   "file_extension": ".py",
   "mimetype": "text/x-python",
   "name": "python",
   "nbconvert_exporter": "python",
   "pygments_lexer": "ipython3",
   "version": "3.12.7"
  }
 },
 "nbformat": 4,
 "nbformat_minor": 5
}
